{
  "nbformat": 4,
  "nbformat_minor": 0,
  "metadata": {
    "colab": {
      "name": "PROJET_Final_(Avec_splitting)(avec les vraies données).ipynb",
      "provenance": [],
      "collapsed_sections": []
    },
    "kernelspec": {
      "name": "python3",
      "display_name": "Python 3"
    }
  },
  "cells": [
    {
      "cell_type": "code",
      "metadata": {
        "id": "K7bfOIluuXPS",
        "outputId": "60a2b5c2-a4cd-4bee-e7e7-9860541184ca",
        "colab": {
          "base_uri": "https://localhost:8080/",
          "height": 33
        }
      },
      "source": [
        "from google.colab import drive\n",
        "drive.mount('/content/drive')"
      ],
      "execution_count": 1,
      "outputs": [
        {
          "output_type": "stream",
          "text": [
            "Mounted at /content/drive\n"
          ],
          "name": "stdout"
        }
      ]
    },
    {
      "cell_type": "code",
      "metadata": {
        "id": "kSCbNwh6ubF0"
      },
      "source": [
        "from fastai.vision import *\n",
        "from fastai import *"
      ],
      "execution_count": 2,
      "outputs": []
    },
    {
      "cell_type": "code",
      "metadata": {
        "id": "5wVIuhMuyo0O",
        "outputId": "c7488134-2b43-49d6-df49-c8ff70f2bc01",
        "colab": {
          "base_uri": "https://localhost:8080/",
          "height": 1000
        }
      },
      "source": [
        "import os\n",
        "import numpy as np\n",
        "import shutil\n",
        "import random\n",
        "\n",
        "\n",
        "\n",
        "# # Creating Train / Val / Test folders (One time use)\n",
        "\n",
        "root_dir = '/content/drive/My Drive/Images Projet Final'\n",
        "classes_dir = ['/Mario', '/Luigi', '/Yoshi', '/Link', '/Captain Falcon',\n",
        "'/Toad', '/Waluigi', '/Fox', '/Daisy','/Harmonie',\n",
        "'/Professor Layton', '/Donkey Kong', '/Tiny Kong', '/Pikachu', '/Phoenix Wright']\n",
        "\n",
        "val_ratio = 0.0\n",
        "test_ratio = 0.30\n",
        "\n",
        "for cls in classes_dir:\n",
        "  os.makedirs(root_dir + '/train'+ cls)\n",
        "  os.makedirs(root_dir + '/val'+ cls)\n",
        "  os.makedirs(root_dir + '/test'+ cls)\n",
        "  print(cls)\n",
        "  src = root_dir + cls # Folder to copy images from\n",
        "  allFileNames = os.listdir(src) # Creating partitions of the data after shuffeling\n",
        "  np.random.shuffle(allFileNames)\n",
        "  for i in allFileNames:\n",
        "    train_FileNames, test_FileNames = np.split(np.array(allFileNames),[int(len(allFileNames)* (1 - test_ratio))])\n",
        "    train_FileNames = [src+'/'+ name for name in train_FileNames.tolist()]\n",
        "    #val_FileNames = [src+'/' + name for name in val_FileNames.tolist()]\n",
        "    test_FileNames = [src+'/' + name for name in test_FileNames.tolist()]\n",
        "\n",
        "\n",
        "\n",
        "  print('Total images: ', len(allFileNames))\n",
        "  print('Training: ', len(train_FileNames))\n",
        "\n",
        "  #print('Validation: ', len(val_FileNames))\n",
        "  print('Testing: ', len(test_FileNames))\n",
        "\n",
        "  # Copy-pasting images\n",
        "\n",
        "  for name in train_FileNames:\n",
        "    shutil.copy(name, root_dir +'/train' + cls)\n",
        "\n",
        "  #for name in val_FileNames:\n",
        "  # shutil.copy(name, root_dir +'/val' + cls)\n",
        "\n",
        "  for name in test_FileNames:\n",
        "    shutil.copy(name, root_dir +'/test' + cls)"
      ],
      "execution_count": 3,
      "outputs": [
        {
          "output_type": "stream",
          "text": [
            "/Mario\n",
            "Total images:  454\n",
            "Training:  317\n",
            "Testing:  137\n",
            "/Luigi\n",
            "Total images:  346\n",
            "Training:  242\n",
            "Testing:  104\n",
            "/Yoshi\n",
            "Total images:  206\n",
            "Training:  144\n",
            "Testing:  62\n",
            "/Link\n",
            "Total images:  453\n",
            "Training:  317\n",
            "Testing:  136\n",
            "/Captain Falcon\n",
            "Total images:  159\n",
            "Training:  111\n",
            "Testing:  48\n",
            "/Toad\n",
            "Total images:  433\n",
            "Training:  303\n",
            "Testing:  130\n",
            "/Waluigi\n",
            "Total images:  236\n",
            "Training:  165\n",
            "Testing:  71\n",
            "/Fox\n",
            "Total images:  500\n",
            "Training:  350\n",
            "Testing:  150\n",
            "/Daisy\n",
            "Total images:  236\n",
            "Training:  165\n",
            "Testing:  71\n",
            "/Harmonie\n",
            "Total images:  207\n",
            "Training:  144\n",
            "Testing:  63\n",
            "/Professor Layton\n",
            "Total images:  102\n",
            "Training:  71\n",
            "Testing:  31\n",
            "/Donkey Kong\n",
            "Total images:  113\n",
            "Training:  79\n",
            "Testing:  34\n",
            "/Tiny Kong\n",
            "Total images:  326\n",
            "Training:  228\n",
            "Testing:  98\n",
            "/Pikachu\n",
            "Total images:  402\n",
            "Training:  281\n",
            "Testing:  121\n",
            "/Phoenix Wright\n",
            "Total images:  100\n",
            "Training:  70\n",
            "Testing:  30\n"
          ],
          "name": "stdout"
        }
      ]
    }
  ]
}